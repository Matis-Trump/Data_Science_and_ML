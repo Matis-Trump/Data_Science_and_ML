{
  "nbformat": 4,
  "nbformat_minor": 0,
  "metadata": {
    "colab": {
      "provenance": [],
      "mount_file_id": "1hI5Ddi9vktnZVat9DI7LdhIxqFjqRhaH",
      "authorship_tag": "ABX9TyOeUnjc8QE4Wahhn5k6FDQl",
      "include_colab_link": true
    },
    "kernelspec": {
      "name": "python3",
      "display_name": "Python 3"
    },
    "language_info": {
      "name": "python"
    }
  },
  "cells": [
    {
      "cell_type": "markdown",
      "metadata": {
        "id": "view-in-github",
        "colab_type": "text"
      },
      "source": [
        "<a href=\"https://colab.research.google.com/github/Matis-Trump/Matis-Trump/blob/main/Fake_news_detection_with_logistic_regression.ipynb\" target=\"_parent\"><img src=\"https://colab.research.google.com/assets/colab-badge.svg\" alt=\"Open In Colab\"/></a>"
      ]
    },
    {
      "cell_type": "markdown",
      "source": [
        "Import Dependencies"
      ],
      "metadata": {
        "id": "S81rhKf1g0Hz"
      }
    },
    {
      "cell_type": "code",
      "execution_count": 1,
      "metadata": {
        "id": "h_x-N5dJbCDX"
      },
      "outputs": [],
      "source": [
        "import numpy as np\n",
        "import pandas as pd\n",
        "import re\n",
        "from nltk.corpus import stopwords\n",
        "from nltk.stem.porter import PorterStemmer\n",
        "from sklearn.feature_extraction.text import TfidfVectorizer\n",
        "from sklearn.model_selection import train_test_split\n",
        "from sklearn.linear_model import LogisticRegression\n",
        "from sklearn.metrics import accuracy_score\n"
      ]
    },
    {
      "cell_type": "code",
      "source": [
        "#Downlaod stopwords\n",
        "\n",
        "import nltk\n",
        "nltk.download('stopwords')"
      ],
      "metadata": {
        "colab": {
          "base_uri": "https://localhost:8080/"
        },
        "id": "TH4C2SmmOihe",
        "outputId": "644ece60-7b4f-4e30-ff5c-f5b4536ad5b7"
      },
      "execution_count": 2,
      "outputs": [
        {
          "output_type": "stream",
          "name": "stderr",
          "text": [
            "[nltk_data] Downloading package stopwords to /root/nltk_data...\n",
            "[nltk_data]   Package stopwords is already up-to-date!\n"
          ]
        },
        {
          "output_type": "execute_result",
          "data": {
            "text/plain": [
              "True"
            ]
          },
          "metadata": {},
          "execution_count": 2
        }
      ]
    },
    {
      "cell_type": "code",
      "source": [
        "# Printing the stopwords\n",
        "print(stopwords.words('english'))"
      ],
      "metadata": {
        "colab": {
          "base_uri": "https://localhost:8080/"
        },
        "id": "9WIOgoYXP-8x",
        "outputId": "dd6aa51d-18fa-41e6-d1d3-155099aded89"
      },
      "execution_count": 3,
      "outputs": [
        {
          "output_type": "stream",
          "name": "stdout",
          "text": [
            "['a', 'about', 'above', 'after', 'again', 'against', 'ain', 'all', 'am', 'an', 'and', 'any', 'are', 'aren', \"aren't\", 'as', 'at', 'be', 'because', 'been', 'before', 'being', 'below', 'between', 'both', 'but', 'by', 'can', 'couldn', \"couldn't\", 'd', 'did', 'didn', \"didn't\", 'do', 'does', 'doesn', \"doesn't\", 'doing', 'don', \"don't\", 'down', 'during', 'each', 'few', 'for', 'from', 'further', 'had', 'hadn', \"hadn't\", 'has', 'hasn', \"hasn't\", 'have', 'haven', \"haven't\", 'having', 'he', \"he'd\", \"he'll\", 'her', 'here', 'hers', 'herself', \"he's\", 'him', 'himself', 'his', 'how', 'i', \"i'd\", 'if', \"i'll\", \"i'm\", 'in', 'into', 'is', 'isn', \"isn't\", 'it', \"it'd\", \"it'll\", \"it's\", 'its', 'itself', \"i've\", 'just', 'll', 'm', 'ma', 'me', 'mightn', \"mightn't\", 'more', 'most', 'mustn', \"mustn't\", 'my', 'myself', 'needn', \"needn't\", 'no', 'nor', 'not', 'now', 'o', 'of', 'off', 'on', 'once', 'only', 'or', 'other', 'our', 'ours', 'ourselves', 'out', 'over', 'own', 're', 's', 'same', 'shan', \"shan't\", 'she', \"she'd\", \"she'll\", \"she's\", 'should', 'shouldn', \"shouldn't\", \"should've\", 'so', 'some', 'such', 't', 'than', 'that', \"that'll\", 'the', 'their', 'theirs', 'them', 'themselves', 'then', 'there', 'these', 'they', \"they'd\", \"they'll\", \"they're\", \"they've\", 'this', 'those', 'through', 'to', 'too', 'under', 'until', 'up', 've', 'very', 'was', 'wasn', \"wasn't\", 'we', \"we'd\", \"we'll\", \"we're\", 'were', 'weren', \"weren't\", \"we've\", 'what', 'when', 'where', 'which', 'while', 'who', 'whom', 'why', 'will', 'with', 'won', \"won't\", 'wouldn', \"wouldn't\", 'y', 'you', \"you'd\", \"you'll\", 'your', \"you're\", 'yours', 'yourself', 'yourselves', \"you've\"]\n"
          ]
        }
      ]
    },
    {
      "cell_type": "markdown",
      "source": [
        "Data Preprocessing"
      ],
      "metadata": {
        "id": "8bDXgShtTC8b"
      }
    },
    {
      "cell_type": "code",
      "source": [
        "# Import the dataset\n",
        "news_df = pd.read_csv('/content/drive/MyDrive/MY ML PROJECTS/WELFake_Dataset.csv')"
      ],
      "metadata": {
        "id": "7iivfTBkgom9"
      },
      "execution_count": 4,
      "outputs": []
    },
    {
      "cell_type": "code",
      "source": [
        "#Reducing the dataset by 50% (the original dataset is too bulky for stemming)\n",
        "news_df = news_df.sample(frac=0.1, random_state=42)"
      ],
      "metadata": {
        "id": "bulUeSKPPxcH"
      },
      "execution_count": 5,
      "outputs": []
    },
    {
      "cell_type": "code",
      "source": [
        "news_df.shape\n"
      ],
      "metadata": {
        "colab": {
          "base_uri": "https://localhost:8080/"
        },
        "id": "ZOxdM53sXqC8",
        "outputId": "3271414b-3634-4a0d-8721-2cbd087ec664"
      },
      "execution_count": 6,
      "outputs": [
        {
          "output_type": "execute_result",
          "data": {
            "text/plain": [
              "(7213, 4)"
            ]
          },
          "metadata": {},
          "execution_count": 6
        }
      ]
    },
    {
      "cell_type": "code",
      "source": [
        "news_df.head()"
      ],
      "metadata": {
        "colab": {
          "base_uri": "https://localhost:8080/",
          "height": 206
        },
        "id": "uJs0s9ORXt00",
        "outputId": "c4809bf3-bf79-44eb-802b-117ca9f46fa6"
      },
      "execution_count": 7,
      "outputs": [
        {
          "output_type": "execute_result",
          "data": {
            "text/plain": [
              "       Unnamed: 0                                              title  \\\n",
              "61370       61370  ARNOLD SCHWARZENEGGER Sends A Message To Liber...   \n",
              "2189         2189  WOW! “We Mexicans Need To Kill Donald Trump Be...   \n",
              "60609       60609  Jimmy Carter recovers from dehydration scare i...   \n",
              "51565       51565  2 Friars’ Mission: Reviving a Brooklyn Church ...   \n",
              "39431       39431  Boy With Autism Makes His First Friend Ever An...   \n",
              "\n",
              "                                                    text  label  \n",
              "61370                                                         1  \n",
              "2189   And now a message of peace and unity from one ...      1  \n",
              "60609  WINNIPEG, Manitoba (Reuters) - Former U.S. Pre...      0  \n",
              "51565  The two Franciscan friars, complete with   rob...      0  \n",
              "39431  Approximately 1 in 68 children has an autism s...      1  "
            ],
            "text/html": [
              "\n",
              "  <div id=\"df-edd3b892-65c7-498d-93ac-f02dc2a2a055\" class=\"colab-df-container\">\n",
              "    <div>\n",
              "<style scoped>\n",
              "    .dataframe tbody tr th:only-of-type {\n",
              "        vertical-align: middle;\n",
              "    }\n",
              "\n",
              "    .dataframe tbody tr th {\n",
              "        vertical-align: top;\n",
              "    }\n",
              "\n",
              "    .dataframe thead th {\n",
              "        text-align: right;\n",
              "    }\n",
              "</style>\n",
              "<table border=\"1\" class=\"dataframe\">\n",
              "  <thead>\n",
              "    <tr style=\"text-align: right;\">\n",
              "      <th></th>\n",
              "      <th>Unnamed: 0</th>\n",
              "      <th>title</th>\n",
              "      <th>text</th>\n",
              "      <th>label</th>\n",
              "    </tr>\n",
              "  </thead>\n",
              "  <tbody>\n",
              "    <tr>\n",
              "      <th>61370</th>\n",
              "      <td>61370</td>\n",
              "      <td>ARNOLD SCHWARZENEGGER Sends A Message To Liber...</td>\n",
              "      <td></td>\n",
              "      <td>1</td>\n",
              "    </tr>\n",
              "    <tr>\n",
              "      <th>2189</th>\n",
              "      <td>2189</td>\n",
              "      <td>WOW! “We Mexicans Need To Kill Donald Trump Be...</td>\n",
              "      <td>And now a message of peace and unity from one ...</td>\n",
              "      <td>1</td>\n",
              "    </tr>\n",
              "    <tr>\n",
              "      <th>60609</th>\n",
              "      <td>60609</td>\n",
              "      <td>Jimmy Carter recovers from dehydration scare i...</td>\n",
              "      <td>WINNIPEG, Manitoba (Reuters) - Former U.S. Pre...</td>\n",
              "      <td>0</td>\n",
              "    </tr>\n",
              "    <tr>\n",
              "      <th>51565</th>\n",
              "      <td>51565</td>\n",
              "      <td>2 Friars’ Mission: Reviving a Brooklyn Church ...</td>\n",
              "      <td>The two Franciscan friars, complete with   rob...</td>\n",
              "      <td>0</td>\n",
              "    </tr>\n",
              "    <tr>\n",
              "      <th>39431</th>\n",
              "      <td>39431</td>\n",
              "      <td>Boy With Autism Makes His First Friend Ever An...</td>\n",
              "      <td>Approximately 1 in 68 children has an autism s...</td>\n",
              "      <td>1</td>\n",
              "    </tr>\n",
              "  </tbody>\n",
              "</table>\n",
              "</div>\n",
              "    <div class=\"colab-df-buttons\">\n",
              "\n",
              "  <div class=\"colab-df-container\">\n",
              "    <button class=\"colab-df-convert\" onclick=\"convertToInteractive('df-edd3b892-65c7-498d-93ac-f02dc2a2a055')\"\n",
              "            title=\"Convert this dataframe to an interactive table.\"\n",
              "            style=\"display:none;\">\n",
              "\n",
              "  <svg xmlns=\"http://www.w3.org/2000/svg\" height=\"24px\" viewBox=\"0 -960 960 960\">\n",
              "    <path d=\"M120-120v-720h720v720H120Zm60-500h600v-160H180v160Zm220 220h160v-160H400v160Zm0 220h160v-160H400v160ZM180-400h160v-160H180v160Zm440 0h160v-160H620v160ZM180-180h160v-160H180v160Zm440 0h160v-160H620v160Z\"/>\n",
              "  </svg>\n",
              "    </button>\n",
              "\n",
              "  <style>\n",
              "    .colab-df-container {\n",
              "      display:flex;\n",
              "      gap: 12px;\n",
              "    }\n",
              "\n",
              "    .colab-df-convert {\n",
              "      background-color: #E8F0FE;\n",
              "      border: none;\n",
              "      border-radius: 50%;\n",
              "      cursor: pointer;\n",
              "      display: none;\n",
              "      fill: #1967D2;\n",
              "      height: 32px;\n",
              "      padding: 0 0 0 0;\n",
              "      width: 32px;\n",
              "    }\n",
              "\n",
              "    .colab-df-convert:hover {\n",
              "      background-color: #E2EBFA;\n",
              "      box-shadow: 0px 1px 2px rgba(60, 64, 67, 0.3), 0px 1px 3px 1px rgba(60, 64, 67, 0.15);\n",
              "      fill: #174EA6;\n",
              "    }\n",
              "\n",
              "    .colab-df-buttons div {\n",
              "      margin-bottom: 4px;\n",
              "    }\n",
              "\n",
              "    [theme=dark] .colab-df-convert {\n",
              "      background-color: #3B4455;\n",
              "      fill: #D2E3FC;\n",
              "    }\n",
              "\n",
              "    [theme=dark] .colab-df-convert:hover {\n",
              "      background-color: #434B5C;\n",
              "      box-shadow: 0px 1px 3px 1px rgba(0, 0, 0, 0.15);\n",
              "      filter: drop-shadow(0px 1px 2px rgba(0, 0, 0, 0.3));\n",
              "      fill: #FFFFFF;\n",
              "    }\n",
              "  </style>\n",
              "\n",
              "    <script>\n",
              "      const buttonEl =\n",
              "        document.querySelector('#df-edd3b892-65c7-498d-93ac-f02dc2a2a055 button.colab-df-convert');\n",
              "      buttonEl.style.display =\n",
              "        google.colab.kernel.accessAllowed ? 'block' : 'none';\n",
              "\n",
              "      async function convertToInteractive(key) {\n",
              "        const element = document.querySelector('#df-edd3b892-65c7-498d-93ac-f02dc2a2a055');\n",
              "        const dataTable =\n",
              "          await google.colab.kernel.invokeFunction('convertToInteractive',\n",
              "                                                    [key], {});\n",
              "        if (!dataTable) return;\n",
              "\n",
              "        const docLinkHtml = 'Like what you see? Visit the ' +\n",
              "          '<a target=\"_blank\" href=https://colab.research.google.com/notebooks/data_table.ipynb>data table notebook</a>'\n",
              "          + ' to learn more about interactive tables.';\n",
              "        element.innerHTML = '';\n",
              "        dataTable['output_type'] = 'display_data';\n",
              "        await google.colab.output.renderOutput(dataTable, element);\n",
              "        const docLink = document.createElement('div');\n",
              "        docLink.innerHTML = docLinkHtml;\n",
              "        element.appendChild(docLink);\n",
              "      }\n",
              "    </script>\n",
              "  </div>\n",
              "\n",
              "\n",
              "    <div id=\"df-11d79008-8ddd-4eb0-bb03-023375fcdac6\">\n",
              "      <button class=\"colab-df-quickchart\" onclick=\"quickchart('df-11d79008-8ddd-4eb0-bb03-023375fcdac6')\"\n",
              "                title=\"Suggest charts\"\n",
              "                style=\"display:none;\">\n",
              "\n",
              "<svg xmlns=\"http://www.w3.org/2000/svg\" height=\"24px\"viewBox=\"0 0 24 24\"\n",
              "     width=\"24px\">\n",
              "    <g>\n",
              "        <path d=\"M19 3H5c-1.1 0-2 .9-2 2v14c0 1.1.9 2 2 2h14c1.1 0 2-.9 2-2V5c0-1.1-.9-2-2-2zM9 17H7v-7h2v7zm4 0h-2V7h2v10zm4 0h-2v-4h2v4z\"/>\n",
              "    </g>\n",
              "</svg>\n",
              "      </button>\n",
              "\n",
              "<style>\n",
              "  .colab-df-quickchart {\n",
              "      --bg-color: #E8F0FE;\n",
              "      --fill-color: #1967D2;\n",
              "      --hover-bg-color: #E2EBFA;\n",
              "      --hover-fill-color: #174EA6;\n",
              "      --disabled-fill-color: #AAA;\n",
              "      --disabled-bg-color: #DDD;\n",
              "  }\n",
              "\n",
              "  [theme=dark] .colab-df-quickchart {\n",
              "      --bg-color: #3B4455;\n",
              "      --fill-color: #D2E3FC;\n",
              "      --hover-bg-color: #434B5C;\n",
              "      --hover-fill-color: #FFFFFF;\n",
              "      --disabled-bg-color: #3B4455;\n",
              "      --disabled-fill-color: #666;\n",
              "  }\n",
              "\n",
              "  .colab-df-quickchart {\n",
              "    background-color: var(--bg-color);\n",
              "    border: none;\n",
              "    border-radius: 50%;\n",
              "    cursor: pointer;\n",
              "    display: none;\n",
              "    fill: var(--fill-color);\n",
              "    height: 32px;\n",
              "    padding: 0;\n",
              "    width: 32px;\n",
              "  }\n",
              "\n",
              "  .colab-df-quickchart:hover {\n",
              "    background-color: var(--hover-bg-color);\n",
              "    box-shadow: 0 1px 2px rgba(60, 64, 67, 0.3), 0 1px 3px 1px rgba(60, 64, 67, 0.15);\n",
              "    fill: var(--button-hover-fill-color);\n",
              "  }\n",
              "\n",
              "  .colab-df-quickchart-complete:disabled,\n",
              "  .colab-df-quickchart-complete:disabled:hover {\n",
              "    background-color: var(--disabled-bg-color);\n",
              "    fill: var(--disabled-fill-color);\n",
              "    box-shadow: none;\n",
              "  }\n",
              "\n",
              "  .colab-df-spinner {\n",
              "    border: 2px solid var(--fill-color);\n",
              "    border-color: transparent;\n",
              "    border-bottom-color: var(--fill-color);\n",
              "    animation:\n",
              "      spin 1s steps(1) infinite;\n",
              "  }\n",
              "\n",
              "  @keyframes spin {\n",
              "    0% {\n",
              "      border-color: transparent;\n",
              "      border-bottom-color: var(--fill-color);\n",
              "      border-left-color: var(--fill-color);\n",
              "    }\n",
              "    20% {\n",
              "      border-color: transparent;\n",
              "      border-left-color: var(--fill-color);\n",
              "      border-top-color: var(--fill-color);\n",
              "    }\n",
              "    30% {\n",
              "      border-color: transparent;\n",
              "      border-left-color: var(--fill-color);\n",
              "      border-top-color: var(--fill-color);\n",
              "      border-right-color: var(--fill-color);\n",
              "    }\n",
              "    40% {\n",
              "      border-color: transparent;\n",
              "      border-right-color: var(--fill-color);\n",
              "      border-top-color: var(--fill-color);\n",
              "    }\n",
              "    60% {\n",
              "      border-color: transparent;\n",
              "      border-right-color: var(--fill-color);\n",
              "    }\n",
              "    80% {\n",
              "      border-color: transparent;\n",
              "      border-right-color: var(--fill-color);\n",
              "      border-bottom-color: var(--fill-color);\n",
              "    }\n",
              "    90% {\n",
              "      border-color: transparent;\n",
              "      border-bottom-color: var(--fill-color);\n",
              "    }\n",
              "  }\n",
              "</style>\n",
              "\n",
              "      <script>\n",
              "        async function quickchart(key) {\n",
              "          const quickchartButtonEl =\n",
              "            document.querySelector('#' + key + ' button');\n",
              "          quickchartButtonEl.disabled = true;  // To prevent multiple clicks.\n",
              "          quickchartButtonEl.classList.add('colab-df-spinner');\n",
              "          try {\n",
              "            const charts = await google.colab.kernel.invokeFunction(\n",
              "                'suggestCharts', [key], {});\n",
              "          } catch (error) {\n",
              "            console.error('Error during call to suggestCharts:', error);\n",
              "          }\n",
              "          quickchartButtonEl.classList.remove('colab-df-spinner');\n",
              "          quickchartButtonEl.classList.add('colab-df-quickchart-complete');\n",
              "        }\n",
              "        (() => {\n",
              "          let quickchartButtonEl =\n",
              "            document.querySelector('#df-11d79008-8ddd-4eb0-bb03-023375fcdac6 button');\n",
              "          quickchartButtonEl.style.display =\n",
              "            google.colab.kernel.accessAllowed ? 'block' : 'none';\n",
              "        })();\n",
              "      </script>\n",
              "    </div>\n",
              "\n",
              "    </div>\n",
              "  </div>\n"
            ],
            "application/vnd.google.colaboratory.intrinsic+json": {
              "type": "dataframe",
              "variable_name": "news_df",
              "summary": "{\n  \"name\": \"news_df\",\n  \"rows\": 7213,\n  \"fields\": [\n    {\n      \"column\": \"Unnamed: 0\",\n      \"properties\": {\n        \"dtype\": \"number\",\n        \"std\": 20668,\n        \"min\": 35,\n        \"max\": 72123,\n        \"num_unique_values\": 7213,\n        \"samples\": [\n          38903,\n          66266,\n          31011\n        ],\n        \"semantic_type\": \"\",\n        \"description\": \"\"\n      }\n    },\n    {\n      \"column\": \"title\",\n      \"properties\": {\n        \"dtype\": \"string\",\n        \"num_unique_values\": 7069,\n        \"samples\": [\n          \"Let\\u2019s Make 2016 the Last Endless American Election\",\n          \"Trump administration's Africa policy in focus at AGOA trade talks\",\n          \"The Existential Question Of Whom To Trust\"\n        ],\n        \"semantic_type\": \"\",\n        \"description\": \"\"\n      }\n    },\n    {\n      \"column\": \"text\",\n      \"properties\": {\n        \"dtype\": \"string\",\n        \"num_unique_values\": 7020,\n        \"samples\": [\n          \"NAIROBI (Reuters) - Hours after Zimbabwe s Robert Mugabe was forced out after 37 years in power, Uganda s president, another former guerrilla in office for more than three decades, was tweeting about pay rises for civil servants and bright prospects for his army tank crews.  Supporters of long-serving African leaders dismiss parallels with Zimbabwe, where Mugabe s former deputy - sacked during a power struggle with Mugabe s wife - is about to take power with military and public backing. [nL8N1NS0IR] But Ugandan President Yoweri Museveni s tweets, which come amid rising anger at the 73-year-old s attempts to prolong his rule, suggest he is looking south and wondering about his own fate.  Now that the economic situation in Uganda is improving, the government will be able to look into raising of salaries of soldiers, public servants, health workers and teachers and also deal with institutional housing,  Museveni tweeted on Wednesday. It was unclear what improvement he meant. Uganda s faltering economy is growing too slowly to absorb a booming population of 37 million. The number of citizens spending less than a dollar a day has surged to 27 percent, the statistics office reported in September, up from 20 percent five years ago. Museveni s office was not immediately available for comment on the tweets, but John Baptist Nambeshe, a ruling party lawmaker who opposes the president s attempts to have an age limit on his post lifted, said there was no coincidence.  The timing couldn t have been coincidental. It was to underscore his might, that probably the military is still solidly behind him, unlike in Zimbabwe,  Nambeshe told Reuters. Museveni may not be alone. Several African leaders have faced popular opposition in recent years, from Togo, where thousands protested this autumn, to Gabon, where riots broke out last year after President Ali Bongo was re-elected in a disputed vote.  Mugabe s fall has raised hopes among opposition politicians that other long-serving leaders will fall, but also stoked fears that those who replace them may be no better. President since 1986, Museveni is among Africa s longest-serving leaders. They include Equatorial Guinea s Teodoro Obiang, president for 38 years; Cameroon s Paul Biya, president for 35 years; Congo s Denis Sassou Nguesso, president for two stints totaling 33 years. The Gnassingb  family have ruled Togo and the Bongo family have ruled Gabon for half a century, while the Kabila family have run the Democratic Republic of Congo for 20 years. Some countries allow only two presidential terms, but several have rolled back such legislation.  In Cameroon, Biya scrapped term limits and cracked down on the opposition. In Congo, Nguesso jailed an opposition leader this year for protesting against removal of term limits.  Franck Essi, secretary-general of the opposition Cameroon Peoples  Party, said opposition movements were closely watching events in Zimbabwe.  Leaders must put in place mechanisms for a democratic and peaceful transition that will allow new leadership. If not, sooner or later, the people who are suffocating will wake up,  he said.   Some places have already seen change. Burkina Faso s Blaise Compaore was ousted by protests in 2014 as he tried to change the constitution and extend his decades-long rule. In January, Gambia s erratic ruler Yahya Jammeh fled after regional pressure ended his 22-year reign. Angolan president Jose Eduardo dos Santos stepped down this year after four decades in power; his handpicked successor has pushed out some key dos Santos allies.  For many nations, a Zimbabwe-style switch in the loyalties of the armed forces or a rift in the inner circle represents one of the few ways that rulers might be forced from power. Despite Zimbabwe s well-established opposition, change didn t come until Mugabe s inner circle fell out over his succession plans, and the military put him under house arrest.  Brigitte Adjamagbo-Johnson, a top Togolese opposition official, said they had hoped for a Zimbabwean-type change of power where the military came over to their side.   We d wanted the Togolese army to fight alongside us. We were moved seeing that Zimbabwe s army and civilian population were all in the streets dancing. That s what we want in Togo,  she said.  There will be change in Zimbabwe this year and there will be in Togo too.   A slump in commodities prices has deprived some nations of the resources they have traditionally used to muffle protests. In some cases, corruption has also emptied state coffers.  In central Africa, Congo s Kabila has repeatedly postponed elections after refusing to step down at the end of his term last year, sparking deadly protests. Jean-Pierre Kambila, Kabila s deputy chief of staff, tweeted that Zimbabwe s protests were a colonial fantasy.  A fabricated demonstration dreamed up by those who do not accept the liberation of Africa. Other Mugabes will be born. Nothing to worry about,  he wrote.  Uganda, a key Western ally set to begin exporting its substantial oil reserves, removed term limits in 2005 to extend Museveni s rule.  The east African nation has seen far less violence under Museveni than the two dictators who preceded him. But now tensions are rising as social services crumble and parliamentarians attempt to remove a constitutional age cap that would bar Museveni from standing in the next election. Police have used deadly force against protesters, and repeatedly arrested the main opposition leader. Security forces dragged parliamentarians opposing the bill out of the legislature. On Wednesday, police raided a popular newspaper, detaining eight staff. [nL8N1NS3M0] [nL8N1MV20F] Okello Oryem, Uganda s state minister for foreign affairs, dismissed any parallels with Zimbabwe, saying Mugabe s overthrow was the result of Western interference.   The intelligence services of the West have worked day and night to bring down Zimbabwe,  he told Reuters.  Citizen pressure in Zimbabwe can only work if and when the army allows it.  But another Ugandan opposition leader, Asuman Basalirwa, warned that national leaders who refused to step down risked plunging their countries into conflict. Military intervention to end dictatorships ultimately leads to more repression, he said, something that many feared might be in store for Zimbabwe.   It is time for the continent to democratize,  he said.  Those who have not yet experienced what happened in Egypt, Tunisia, Libya and now Zimbabwe should just wait for their turn because it will surely come.   \",\n          \"Although Obama had 3 years to take action to fix the Flint water problem, President Donald Trump has managed to do it in 2 months. The EPA has just issued a $100 million grant to the city of Flint, Michigan to replace the city s corroded and lead-polluted pipes.Critics of President Trump have lambasted him for his proposed budget cuts at the Environmental Protection Agency, saying the cuts are proof that he doesn t care about the environment.EPA Administrator Scott Pruitt released a statement saying,  The people of Flint and all Americans deserve a more responsive federal government  EPA will especially focus on helping Michigan improve Flint s water infrastructure as part of our larger goal of improving America s water infrastructure. Under authority granted the agency by the Water Infrastructure Improvements for the Nation Act of 2016, the EPA just issued a $100 million grant to the beleaguered city of Flint, Michigan, to help in the effort at replacing the city s badly corroded and lead-tainted system of water pipes. We are excited and very grateful to receive these much-needed funds,  Flint Mayor Karen Weaver said.  The City of Flint being awarded a grant of this magnitude in such a critical time of need will be a huge benefit. The state of Michigan also contributed $20 million to match 20 percent of the grant. Meanwhile, CNN continues with their anti-Trump narrative and insists that President Trump had nothing to do with the grant and that it actually came from an action that former President Barack Obama and the prior Congress took in 2016. They are clearly blind to Trump s promise to fix the crumbling infrastructure of our country as soon as possible, something Obama never made a priority.CNN also obsessed over Trump s proposed 31 percent EPA budget cuts, failing to mention that the president had no intention of defunding programs to help improve the water system infrastructure.Despite the fact that Flint has been dealing with contaminated water for three years, Obama s EPA did not attempt to fix the problem. Now that Trump is in office, he is taking real action to make positive changes in the lives of Flint, MI citizens.Source: Conservative Tribune\",\n          \"Our First Lady has taken time out from her self-appointed role as America s Food Nazi to fulfill her new role as  First Propagandist  in Obama s coordinated Race War on America First lady Michelle Obama used a speech Monday that was supposed to be celebrating the opening of a new museum to instead dig deeper the racial divide that s been growing ever wider during her husband s presidency.  Museums and concert halls,  she said, just don t welcome non-white visitors   especially children   the way they welcome whites. Speaking at the new Whitney museum in New York City s meat packing district last week, Obama said she grew up thinking that museums were not places  for someone who looks like me.   You see, there are so many kids in this country who look at places like museums and concert halls and other cultural centers and they think to themselves, well, that s not a place for me, for someone who looks like me, for someone who comes from my neighborhood. In fact, I guarantee you that right now, there are kids living less than a mile from here who would never in a million years dream that they would be welcome in this museum.  And growing up on the South Side of Chicago, I was one of those kids myself. So I know that feeling of not belonging in a place like this. And today, as first lady, I know how that feeling limits the horizons of far too many of our young people. According to Twitchy, Obama s remarks went largely unnoticed outside of the event, until a local radio host reported on  Museums as White Spaces. The first lady likely won t be answering that question any time soon. The tone of her speech was eerily similar to her husband s remarks during the launch of My Brother s Keeper Alliance in New York City on Monday. In the wake of racial tension and turmoil that has prompted riots throughout the country, President Obama unleashed some of his most overt commentary on race yet, as documented by Twitchy. Via: BizPacReview\"\n        ],\n        \"semantic_type\": \"\",\n        \"description\": \"\"\n      }\n    },\n    {\n      \"column\": \"label\",\n      \"properties\": {\n        \"dtype\": \"number\",\n        \"std\": 0,\n        \"min\": 0,\n        \"max\": 1,\n        \"num_unique_values\": 2,\n        \"samples\": [\n          0,\n          1\n        ],\n        \"semantic_type\": \"\",\n        \"description\": \"\"\n      }\n    }\n  ]\n}"
            }
          },
          "metadata": {},
          "execution_count": 7
        }
      ]
    },
    {
      "cell_type": "code",
      "source": [
        "news_df.isnull().sum()"
      ],
      "metadata": {
        "id": "KWBiN3nrXwQV",
        "colab": {
          "base_uri": "https://localhost:8080/",
          "height": 209
        },
        "outputId": "432c7056-58f2-4d24-aad3-0cbc0c2d7d68"
      },
      "execution_count": 8,
      "outputs": [
        {
          "output_type": "execute_result",
          "data": {
            "text/plain": [
              "Unnamed: 0     0\n",
              "title         49\n",
              "text           5\n",
              "label          0\n",
              "dtype: int64"
            ],
            "text/html": [
              "<div>\n",
              "<style scoped>\n",
              "    .dataframe tbody tr th:only-of-type {\n",
              "        vertical-align: middle;\n",
              "    }\n",
              "\n",
              "    .dataframe tbody tr th {\n",
              "        vertical-align: top;\n",
              "    }\n",
              "\n",
              "    .dataframe thead th {\n",
              "        text-align: right;\n",
              "    }\n",
              "</style>\n",
              "<table border=\"1\" class=\"dataframe\">\n",
              "  <thead>\n",
              "    <tr style=\"text-align: right;\">\n",
              "      <th></th>\n",
              "      <th>0</th>\n",
              "    </tr>\n",
              "  </thead>\n",
              "  <tbody>\n",
              "    <tr>\n",
              "      <th>Unnamed: 0</th>\n",
              "      <td>0</td>\n",
              "    </tr>\n",
              "    <tr>\n",
              "      <th>title</th>\n",
              "      <td>49</td>\n",
              "    </tr>\n",
              "    <tr>\n",
              "      <th>text</th>\n",
              "      <td>5</td>\n",
              "    </tr>\n",
              "    <tr>\n",
              "      <th>label</th>\n",
              "      <td>0</td>\n",
              "    </tr>\n",
              "  </tbody>\n",
              "</table>\n",
              "</div><br><label><b>dtype:</b> int64</label>"
            ]
          },
          "metadata": {},
          "execution_count": 8
        }
      ]
    },
    {
      "cell_type": "code",
      "source": [
        "#fill the null values\n",
        "news_df = news_df.fillna('')"
      ],
      "metadata": {
        "id": "alvmgy-roXz8"
      },
      "execution_count": 9,
      "outputs": []
    },
    {
      "cell_type": "code",
      "source": [
        "news_df['text'] = news_df['title']+ ' ' +news_df['text']"
      ],
      "metadata": {
        "id": "tztJ8Jg_N6GT"
      },
      "execution_count": 10,
      "outputs": []
    },
    {
      "cell_type": "markdown",
      "source": [
        "Stemming --> Reducing words to their root words"
      ],
      "metadata": {
        "id": "f6RQoJTHfmyr"
      }
    },
    {
      "cell_type": "code",
      "source": [
        "port_stem = PorterStemmer()"
      ],
      "metadata": {
        "id": "m_Ae3ixTugKU"
      },
      "execution_count": 11,
      "outputs": []
    },
    {
      "cell_type": "code",
      "source": [
        "def stemming(text):\n",
        "  stemmed_text = re.sub('[^a-zA-Z]', ' ', text)\n",
        "  stemmed_text = stemmed_text.lower()\n",
        "  stemmed_text = stemmed_text.split()\n",
        "  stemmed_text = [port_stem.stem(word) for word in stemmed_text if not word in stopwords.words('english')]\n",
        "  stemmed_text = ' '.join(stemmed_text)\n",
        "  return stemmed_text"
      ],
      "metadata": {
        "id": "2issD7W7b5xu"
      },
      "execution_count": 12,
      "outputs": []
    },
    {
      "cell_type": "code",
      "source": [
        "news_df['text'] = news_df['text'].apply(stemming)"
      ],
      "metadata": {
        "id": "WoAMYjvHg2-O"
      },
      "execution_count": 13,
      "outputs": []
    },
    {
      "cell_type": "code",
      "source": [
        "print(news_df['text'])"
      ],
      "metadata": {
        "colab": {
          "base_uri": "https://localhost:8080/"
        },
        "id": "ZXHcCatGQTsa",
        "outputId": "fcf9dcf5-428f-461b-9115-33396fefd7ff"
      },
      "execution_count": 14,
      "outputs": [
        {
          "output_type": "stream",
          "name": "stdout",
          "text": [
            "61370    arnold schwarzenegg send messag liber whine tr...\n",
            "2189     wow mexican need kill donald trump becom presi...\n",
            "60609    jimmi carter recov dehydr scare canada winnipe...\n",
            "51565    friar mission reviv brooklyn church religi dea...\n",
            "39431    boy autism make first friend ever mom stop cri...\n",
            "                               ...                        \n",
            "46006    obama condemn trump say u bless muslim commun ...\n",
            "33197    czech foreign minist lightli injur car accid m...\n",
            "61712    hous intel slap subpoena mccain institut assoc...\n",
            "17836    terror group plan violenc trump support shock ...\n",
            "47596    media blm block street storm footbal field bla...\n",
            "Name: text, Length: 7213, dtype: object\n"
          ]
        }
      ]
    },
    {
      "cell_type": "code",
      "source": [
        "X = news_df['text']\n",
        "Y = news_df['label']"
      ],
      "metadata": {
        "id": "froKsFIXUfLF"
      },
      "execution_count": 15,
      "outputs": []
    },
    {
      "cell_type": "markdown",
      "source": [
        "Converting the Textual contents to numerical values using vectorizer"
      ],
      "metadata": {
        "id": "3NuXJmAoYjyl"
      }
    },
    {
      "cell_type": "code",
      "source": [
        "#Create a variable and store the vectorizer in it\n",
        "\n",
        "vectorizer = TfidfVectorizer()\n",
        "\n",
        "vectorizer.fit(X)\n",
        "X = vectorizer.transform(X)"
      ],
      "metadata": {
        "id": "6YSCi97NVbOB"
      },
      "execution_count": 16,
      "outputs": []
    },
    {
      "cell_type": "code",
      "source": [
        "print(X)"
      ],
      "metadata": {
        "colab": {
          "base_uri": "https://localhost:8080/"
        },
        "id": "cQSI8XnKZR43",
        "outputId": "ae8fef6c-4c39-4d29-dcaa-8a1a794812b1"
      },
      "execution_count": 17,
      "outputs": [
        {
          "output_type": "stream",
          "name": "stdout",
          "text": [
            "<Compressed Sparse Row sparse matrix of dtype 'float64'\n",
            "\twith 1373892 stored elements and shape (7213, 49874)>\n",
            "  Coords\tValues\n",
            "  (0, 2337)\t0.5036391898635276\n",
            "  (0, 24977)\t0.2523179278259548\n",
            "  (0, 27542)\t0.25173251353186943\n",
            "  (0, 38580)\t0.5620243596050936\n",
            "  (0, 39009)\t0.2664051242934325\n",
            "  (0, 44753)\t0.13085944238096534\n",
            "  (0, 46909)\t0.18452569390879997\n",
            "  (0, 48030)\t0.42578982485500627\n",
            "  (1, 1455)\t0.05491731318923866\n",
            "  (1, 1964)\t0.1279073104444237\n",
            "  (1, 2514)\t0.12324269542430656\n",
            "  (1, 3851)\t0.20420095929831397\n",
            "  (1, 4299)\t0.08044621369176619\n",
            "  (1, 5095)\t0.1032140203795777\n",
            "  (1, 5207)\t0.17742066586511154\n",
            "  (1, 5352)\t0.11185982371007026\n",
            "  (1, 6382)\t0.04901388292825424\n",
            "  (1, 9583)\t0.20688329924316526\n",
            "  (1, 11824)\t0.2072969755242485\n",
            "  (1, 13863)\t0.06928734426521017\n",
            "  (1, 14067)\t0.10390312579572589\n",
            "  (1, 17055)\t0.10211611269354866\n",
            "  (1, 17102)\t0.09448069106515511\n",
            "  (1, 20294)\t0.09930160053682865\n",
            "  (1, 20380)\t0.08862516342190765\n",
            "  :\t:\n",
            "  (7212, 44739)\t0.05285062754845705\n",
            "  (7212, 45093)\t0.07754183350491203\n",
            "  (7212, 45135)\t0.023979804502564567\n",
            "  (7212, 45815)\t0.09282262752667107\n",
            "  (7212, 45952)\t0.06822995766571026\n",
            "  (7212, 46190)\t0.027909084304002536\n",
            "  (7212, 46938)\t0.017907810293982637\n",
            "  (7212, 46945)\t0.03591866321455547\n",
            "  (7212, 47164)\t0.021887147237167358\n",
            "  (7212, 47266)\t0.02576852533398789\n",
            "  (7212, 47449)\t0.0805909503922624\n",
            "  (7212, 47503)\t0.03733570975662029\n",
            "  (7212, 47611)\t0.016012680438976096\n",
            "  (7212, 47849)\t0.013632197599544212\n",
            "  (7212, 48058)\t0.02793655372423959\n",
            "  (7212, 48373)\t0.02421217911339112\n",
            "  (7212, 48416)\t0.05285062754845705\n",
            "  (7212, 48550)\t0.012291545143222797\n",
            "  (7212, 48579)\t0.014168049002181065\n",
            "  (7212, 48675)\t0.02112257466030733\n",
            "  (7212, 49102)\t0.009929341262148023\n",
            "  (7212, 49178)\t0.026942662220034243\n",
            "  (7212, 49326)\t0.047581507657927034\n",
            "  (7212, 49425)\t0.04420144683259347\n",
            "  (7212, 49729)\t0.05285062754845705\n"
          ]
        }
      ]
    },
    {
      "cell_type": "markdown",
      "source": [
        "Splitting the dataset into training and test data"
      ],
      "metadata": {
        "id": "MBLtRkXPZf8u"
      }
    },
    {
      "cell_type": "code",
      "source": [
        "X_train, X_test, Y_train, Y_test = train_test_split(X, Y, test_size=0.25, stratify=Y, random_state=3)"
      ],
      "metadata": {
        "id": "wGCfcBiDZUf5"
      },
      "execution_count": 18,
      "outputs": []
    },
    {
      "cell_type": "markdown",
      "source": [
        "Training the Model: Logistic Regression\n"
      ],
      "metadata": {
        "id": "1d4xN8HMaXGd"
      }
    },
    {
      "cell_type": "code",
      "source": [
        "model = LogisticRegression()\n",
        "model.fit(X_train, Y_train)"
      ],
      "metadata": {
        "colab": {
          "base_uri": "https://localhost:8080/",
          "height": 80
        },
        "id": "Mb93v7bDaBbU",
        "outputId": "4da6fb37-4899-44e5-f4e4-c23bfe9ea204"
      },
      "execution_count": 19,
      "outputs": [
        {
          "output_type": "execute_result",
          "data": {
            "text/plain": [
              "LogisticRegression()"
            ],
            "text/html": [
              "<style>#sk-container-id-1 {\n",
              "  /* Definition of color scheme common for light and dark mode */\n",
              "  --sklearn-color-text: #000;\n",
              "  --sklearn-color-text-muted: #666;\n",
              "  --sklearn-color-line: gray;\n",
              "  /* Definition of color scheme for unfitted estimators */\n",
              "  --sklearn-color-unfitted-level-0: #fff5e6;\n",
              "  --sklearn-color-unfitted-level-1: #f6e4d2;\n",
              "  --sklearn-color-unfitted-level-2: #ffe0b3;\n",
              "  --sklearn-color-unfitted-level-3: chocolate;\n",
              "  /* Definition of color scheme for fitted estimators */\n",
              "  --sklearn-color-fitted-level-0: #f0f8ff;\n",
              "  --sklearn-color-fitted-level-1: #d4ebff;\n",
              "  --sklearn-color-fitted-level-2: #b3dbfd;\n",
              "  --sklearn-color-fitted-level-3: cornflowerblue;\n",
              "\n",
              "  /* Specific color for light theme */\n",
              "  --sklearn-color-text-on-default-background: var(--sg-text-color, var(--theme-code-foreground, var(--jp-content-font-color1, black)));\n",
              "  --sklearn-color-background: var(--sg-background-color, var(--theme-background, var(--jp-layout-color0, white)));\n",
              "  --sklearn-color-border-box: var(--sg-text-color, var(--theme-code-foreground, var(--jp-content-font-color1, black)));\n",
              "  --sklearn-color-icon: #696969;\n",
              "\n",
              "  @media (prefers-color-scheme: dark) {\n",
              "    /* Redefinition of color scheme for dark theme */\n",
              "    --sklearn-color-text-on-default-background: var(--sg-text-color, var(--theme-code-foreground, var(--jp-content-font-color1, white)));\n",
              "    --sklearn-color-background: var(--sg-background-color, var(--theme-background, var(--jp-layout-color0, #111)));\n",
              "    --sklearn-color-border-box: var(--sg-text-color, var(--theme-code-foreground, var(--jp-content-font-color1, white)));\n",
              "    --sklearn-color-icon: #878787;\n",
              "  }\n",
              "}\n",
              "\n",
              "#sk-container-id-1 {\n",
              "  color: var(--sklearn-color-text);\n",
              "}\n",
              "\n",
              "#sk-container-id-1 pre {\n",
              "  padding: 0;\n",
              "}\n",
              "\n",
              "#sk-container-id-1 input.sk-hidden--visually {\n",
              "  border: 0;\n",
              "  clip: rect(1px 1px 1px 1px);\n",
              "  clip: rect(1px, 1px, 1px, 1px);\n",
              "  height: 1px;\n",
              "  margin: -1px;\n",
              "  overflow: hidden;\n",
              "  padding: 0;\n",
              "  position: absolute;\n",
              "  width: 1px;\n",
              "}\n",
              "\n",
              "#sk-container-id-1 div.sk-dashed-wrapped {\n",
              "  border: 1px dashed var(--sklearn-color-line);\n",
              "  margin: 0 0.4em 0.5em 0.4em;\n",
              "  box-sizing: border-box;\n",
              "  padding-bottom: 0.4em;\n",
              "  background-color: var(--sklearn-color-background);\n",
              "}\n",
              "\n",
              "#sk-container-id-1 div.sk-container {\n",
              "  /* jupyter's `normalize.less` sets `[hidden] { display: none; }`\n",
              "     but bootstrap.min.css set `[hidden] { display: none !important; }`\n",
              "     so we also need the `!important` here to be able to override the\n",
              "     default hidden behavior on the sphinx rendered scikit-learn.org.\n",
              "     See: https://github.com/scikit-learn/scikit-learn/issues/21755 */\n",
              "  display: inline-block !important;\n",
              "  position: relative;\n",
              "}\n",
              "\n",
              "#sk-container-id-1 div.sk-text-repr-fallback {\n",
              "  display: none;\n",
              "}\n",
              "\n",
              "div.sk-parallel-item,\n",
              "div.sk-serial,\n",
              "div.sk-item {\n",
              "  /* draw centered vertical line to link estimators */\n",
              "  background-image: linear-gradient(var(--sklearn-color-text-on-default-background), var(--sklearn-color-text-on-default-background));\n",
              "  background-size: 2px 100%;\n",
              "  background-repeat: no-repeat;\n",
              "  background-position: center center;\n",
              "}\n",
              "\n",
              "/* Parallel-specific style estimator block */\n",
              "\n",
              "#sk-container-id-1 div.sk-parallel-item::after {\n",
              "  content: \"\";\n",
              "  width: 100%;\n",
              "  border-bottom: 2px solid var(--sklearn-color-text-on-default-background);\n",
              "  flex-grow: 1;\n",
              "}\n",
              "\n",
              "#sk-container-id-1 div.sk-parallel {\n",
              "  display: flex;\n",
              "  align-items: stretch;\n",
              "  justify-content: center;\n",
              "  background-color: var(--sklearn-color-background);\n",
              "  position: relative;\n",
              "}\n",
              "\n",
              "#sk-container-id-1 div.sk-parallel-item {\n",
              "  display: flex;\n",
              "  flex-direction: column;\n",
              "}\n",
              "\n",
              "#sk-container-id-1 div.sk-parallel-item:first-child::after {\n",
              "  align-self: flex-end;\n",
              "  width: 50%;\n",
              "}\n",
              "\n",
              "#sk-container-id-1 div.sk-parallel-item:last-child::after {\n",
              "  align-self: flex-start;\n",
              "  width: 50%;\n",
              "}\n",
              "\n",
              "#sk-container-id-1 div.sk-parallel-item:only-child::after {\n",
              "  width: 0;\n",
              "}\n",
              "\n",
              "/* Serial-specific style estimator block */\n",
              "\n",
              "#sk-container-id-1 div.sk-serial {\n",
              "  display: flex;\n",
              "  flex-direction: column;\n",
              "  align-items: center;\n",
              "  background-color: var(--sklearn-color-background);\n",
              "  padding-right: 1em;\n",
              "  padding-left: 1em;\n",
              "}\n",
              "\n",
              "\n",
              "/* Toggleable style: style used for estimator/Pipeline/ColumnTransformer box that is\n",
              "clickable and can be expanded/collapsed.\n",
              "- Pipeline and ColumnTransformer use this feature and define the default style\n",
              "- Estimators will overwrite some part of the style using the `sk-estimator` class\n",
              "*/\n",
              "\n",
              "/* Pipeline and ColumnTransformer style (default) */\n",
              "\n",
              "#sk-container-id-1 div.sk-toggleable {\n",
              "  /* Default theme specific background. It is overwritten whether we have a\n",
              "  specific estimator or a Pipeline/ColumnTransformer */\n",
              "  background-color: var(--sklearn-color-background);\n",
              "}\n",
              "\n",
              "/* Toggleable label */\n",
              "#sk-container-id-1 label.sk-toggleable__label {\n",
              "  cursor: pointer;\n",
              "  display: flex;\n",
              "  width: 100%;\n",
              "  margin-bottom: 0;\n",
              "  padding: 0.5em;\n",
              "  box-sizing: border-box;\n",
              "  text-align: center;\n",
              "  align-items: start;\n",
              "  justify-content: space-between;\n",
              "  gap: 0.5em;\n",
              "}\n",
              "\n",
              "#sk-container-id-1 label.sk-toggleable__label .caption {\n",
              "  font-size: 0.6rem;\n",
              "  font-weight: lighter;\n",
              "  color: var(--sklearn-color-text-muted);\n",
              "}\n",
              "\n",
              "#sk-container-id-1 label.sk-toggleable__label-arrow:before {\n",
              "  /* Arrow on the left of the label */\n",
              "  content: \"▸\";\n",
              "  float: left;\n",
              "  margin-right: 0.25em;\n",
              "  color: var(--sklearn-color-icon);\n",
              "}\n",
              "\n",
              "#sk-container-id-1 label.sk-toggleable__label-arrow:hover:before {\n",
              "  color: var(--sklearn-color-text);\n",
              "}\n",
              "\n",
              "/* Toggleable content - dropdown */\n",
              "\n",
              "#sk-container-id-1 div.sk-toggleable__content {\n",
              "  max-height: 0;\n",
              "  max-width: 0;\n",
              "  overflow: hidden;\n",
              "  text-align: left;\n",
              "  /* unfitted */\n",
              "  background-color: var(--sklearn-color-unfitted-level-0);\n",
              "}\n",
              "\n",
              "#sk-container-id-1 div.sk-toggleable__content.fitted {\n",
              "  /* fitted */\n",
              "  background-color: var(--sklearn-color-fitted-level-0);\n",
              "}\n",
              "\n",
              "#sk-container-id-1 div.sk-toggleable__content pre {\n",
              "  margin: 0.2em;\n",
              "  border-radius: 0.25em;\n",
              "  color: var(--sklearn-color-text);\n",
              "  /* unfitted */\n",
              "  background-color: var(--sklearn-color-unfitted-level-0);\n",
              "}\n",
              "\n",
              "#sk-container-id-1 div.sk-toggleable__content.fitted pre {\n",
              "  /* unfitted */\n",
              "  background-color: var(--sklearn-color-fitted-level-0);\n",
              "}\n",
              "\n",
              "#sk-container-id-1 input.sk-toggleable__control:checked~div.sk-toggleable__content {\n",
              "  /* Expand drop-down */\n",
              "  max-height: 200px;\n",
              "  max-width: 100%;\n",
              "  overflow: auto;\n",
              "}\n",
              "\n",
              "#sk-container-id-1 input.sk-toggleable__control:checked~label.sk-toggleable__label-arrow:before {\n",
              "  content: \"▾\";\n",
              "}\n",
              "\n",
              "/* Pipeline/ColumnTransformer-specific style */\n",
              "\n",
              "#sk-container-id-1 div.sk-label input.sk-toggleable__control:checked~label.sk-toggleable__label {\n",
              "  color: var(--sklearn-color-text);\n",
              "  background-color: var(--sklearn-color-unfitted-level-2);\n",
              "}\n",
              "\n",
              "#sk-container-id-1 div.sk-label.fitted input.sk-toggleable__control:checked~label.sk-toggleable__label {\n",
              "  background-color: var(--sklearn-color-fitted-level-2);\n",
              "}\n",
              "\n",
              "/* Estimator-specific style */\n",
              "\n",
              "/* Colorize estimator box */\n",
              "#sk-container-id-1 div.sk-estimator input.sk-toggleable__control:checked~label.sk-toggleable__label {\n",
              "  /* unfitted */\n",
              "  background-color: var(--sklearn-color-unfitted-level-2);\n",
              "}\n",
              "\n",
              "#sk-container-id-1 div.sk-estimator.fitted input.sk-toggleable__control:checked~label.sk-toggleable__label {\n",
              "  /* fitted */\n",
              "  background-color: var(--sklearn-color-fitted-level-2);\n",
              "}\n",
              "\n",
              "#sk-container-id-1 div.sk-label label.sk-toggleable__label,\n",
              "#sk-container-id-1 div.sk-label label {\n",
              "  /* The background is the default theme color */\n",
              "  color: var(--sklearn-color-text-on-default-background);\n",
              "}\n",
              "\n",
              "/* On hover, darken the color of the background */\n",
              "#sk-container-id-1 div.sk-label:hover label.sk-toggleable__label {\n",
              "  color: var(--sklearn-color-text);\n",
              "  background-color: var(--sklearn-color-unfitted-level-2);\n",
              "}\n",
              "\n",
              "/* Label box, darken color on hover, fitted */\n",
              "#sk-container-id-1 div.sk-label.fitted:hover label.sk-toggleable__label.fitted {\n",
              "  color: var(--sklearn-color-text);\n",
              "  background-color: var(--sklearn-color-fitted-level-2);\n",
              "}\n",
              "\n",
              "/* Estimator label */\n",
              "\n",
              "#sk-container-id-1 div.sk-label label {\n",
              "  font-family: monospace;\n",
              "  font-weight: bold;\n",
              "  display: inline-block;\n",
              "  line-height: 1.2em;\n",
              "}\n",
              "\n",
              "#sk-container-id-1 div.sk-label-container {\n",
              "  text-align: center;\n",
              "}\n",
              "\n",
              "/* Estimator-specific */\n",
              "#sk-container-id-1 div.sk-estimator {\n",
              "  font-family: monospace;\n",
              "  border: 1px dotted var(--sklearn-color-border-box);\n",
              "  border-radius: 0.25em;\n",
              "  box-sizing: border-box;\n",
              "  margin-bottom: 0.5em;\n",
              "  /* unfitted */\n",
              "  background-color: var(--sklearn-color-unfitted-level-0);\n",
              "}\n",
              "\n",
              "#sk-container-id-1 div.sk-estimator.fitted {\n",
              "  /* fitted */\n",
              "  background-color: var(--sklearn-color-fitted-level-0);\n",
              "}\n",
              "\n",
              "/* on hover */\n",
              "#sk-container-id-1 div.sk-estimator:hover {\n",
              "  /* unfitted */\n",
              "  background-color: var(--sklearn-color-unfitted-level-2);\n",
              "}\n",
              "\n",
              "#sk-container-id-1 div.sk-estimator.fitted:hover {\n",
              "  /* fitted */\n",
              "  background-color: var(--sklearn-color-fitted-level-2);\n",
              "}\n",
              "\n",
              "/* Specification for estimator info (e.g. \"i\" and \"?\") */\n",
              "\n",
              "/* Common style for \"i\" and \"?\" */\n",
              "\n",
              ".sk-estimator-doc-link,\n",
              "a:link.sk-estimator-doc-link,\n",
              "a:visited.sk-estimator-doc-link {\n",
              "  float: right;\n",
              "  font-size: smaller;\n",
              "  line-height: 1em;\n",
              "  font-family: monospace;\n",
              "  background-color: var(--sklearn-color-background);\n",
              "  border-radius: 1em;\n",
              "  height: 1em;\n",
              "  width: 1em;\n",
              "  text-decoration: none !important;\n",
              "  margin-left: 0.5em;\n",
              "  text-align: center;\n",
              "  /* unfitted */\n",
              "  border: var(--sklearn-color-unfitted-level-1) 1pt solid;\n",
              "  color: var(--sklearn-color-unfitted-level-1);\n",
              "}\n",
              "\n",
              ".sk-estimator-doc-link.fitted,\n",
              "a:link.sk-estimator-doc-link.fitted,\n",
              "a:visited.sk-estimator-doc-link.fitted {\n",
              "  /* fitted */\n",
              "  border: var(--sklearn-color-fitted-level-1) 1pt solid;\n",
              "  color: var(--sklearn-color-fitted-level-1);\n",
              "}\n",
              "\n",
              "/* On hover */\n",
              "div.sk-estimator:hover .sk-estimator-doc-link:hover,\n",
              ".sk-estimator-doc-link:hover,\n",
              "div.sk-label-container:hover .sk-estimator-doc-link:hover,\n",
              ".sk-estimator-doc-link:hover {\n",
              "  /* unfitted */\n",
              "  background-color: var(--sklearn-color-unfitted-level-3);\n",
              "  color: var(--sklearn-color-background);\n",
              "  text-decoration: none;\n",
              "}\n",
              "\n",
              "div.sk-estimator.fitted:hover .sk-estimator-doc-link.fitted:hover,\n",
              ".sk-estimator-doc-link.fitted:hover,\n",
              "div.sk-label-container:hover .sk-estimator-doc-link.fitted:hover,\n",
              ".sk-estimator-doc-link.fitted:hover {\n",
              "  /* fitted */\n",
              "  background-color: var(--sklearn-color-fitted-level-3);\n",
              "  color: var(--sklearn-color-background);\n",
              "  text-decoration: none;\n",
              "}\n",
              "\n",
              "/* Span, style for the box shown on hovering the info icon */\n",
              ".sk-estimator-doc-link span {\n",
              "  display: none;\n",
              "  z-index: 9999;\n",
              "  position: relative;\n",
              "  font-weight: normal;\n",
              "  right: .2ex;\n",
              "  padding: .5ex;\n",
              "  margin: .5ex;\n",
              "  width: min-content;\n",
              "  min-width: 20ex;\n",
              "  max-width: 50ex;\n",
              "  color: var(--sklearn-color-text);\n",
              "  box-shadow: 2pt 2pt 4pt #999;\n",
              "  /* unfitted */\n",
              "  background: var(--sklearn-color-unfitted-level-0);\n",
              "  border: .5pt solid var(--sklearn-color-unfitted-level-3);\n",
              "}\n",
              "\n",
              ".sk-estimator-doc-link.fitted span {\n",
              "  /* fitted */\n",
              "  background: var(--sklearn-color-fitted-level-0);\n",
              "  border: var(--sklearn-color-fitted-level-3);\n",
              "}\n",
              "\n",
              ".sk-estimator-doc-link:hover span {\n",
              "  display: block;\n",
              "}\n",
              "\n",
              "/* \"?\"-specific style due to the `<a>` HTML tag */\n",
              "\n",
              "#sk-container-id-1 a.estimator_doc_link {\n",
              "  float: right;\n",
              "  font-size: 1rem;\n",
              "  line-height: 1em;\n",
              "  font-family: monospace;\n",
              "  background-color: var(--sklearn-color-background);\n",
              "  border-radius: 1rem;\n",
              "  height: 1rem;\n",
              "  width: 1rem;\n",
              "  text-decoration: none;\n",
              "  /* unfitted */\n",
              "  color: var(--sklearn-color-unfitted-level-1);\n",
              "  border: var(--sklearn-color-unfitted-level-1) 1pt solid;\n",
              "}\n",
              "\n",
              "#sk-container-id-1 a.estimator_doc_link.fitted {\n",
              "  /* fitted */\n",
              "  border: var(--sklearn-color-fitted-level-1) 1pt solid;\n",
              "  color: var(--sklearn-color-fitted-level-1);\n",
              "}\n",
              "\n",
              "/* On hover */\n",
              "#sk-container-id-1 a.estimator_doc_link:hover {\n",
              "  /* unfitted */\n",
              "  background-color: var(--sklearn-color-unfitted-level-3);\n",
              "  color: var(--sklearn-color-background);\n",
              "  text-decoration: none;\n",
              "}\n",
              "\n",
              "#sk-container-id-1 a.estimator_doc_link.fitted:hover {\n",
              "  /* fitted */\n",
              "  background-color: var(--sklearn-color-fitted-level-3);\n",
              "}\n",
              "</style><div id=\"sk-container-id-1\" class=\"sk-top-container\"><div class=\"sk-text-repr-fallback\"><pre>LogisticRegression()</pre><b>In a Jupyter environment, please rerun this cell to show the HTML representation or trust the notebook. <br />On GitHub, the HTML representation is unable to render, please try loading this page with nbviewer.org.</b></div><div class=\"sk-container\" hidden><div class=\"sk-item\"><div class=\"sk-estimator fitted sk-toggleable\"><input class=\"sk-toggleable__control sk-hidden--visually\" id=\"sk-estimator-id-1\" type=\"checkbox\" checked><label for=\"sk-estimator-id-1\" class=\"sk-toggleable__label fitted sk-toggleable__label-arrow\"><div><div>LogisticRegression</div></div><div><a class=\"sk-estimator-doc-link fitted\" rel=\"noreferrer\" target=\"_blank\" href=\"https://scikit-learn.org/1.6/modules/generated/sklearn.linear_model.LogisticRegression.html\">?<span>Documentation for LogisticRegression</span></a><span class=\"sk-estimator-doc-link fitted\">i<span>Fitted</span></span></div></label><div class=\"sk-toggleable__content fitted\"><pre>LogisticRegression()</pre></div> </div></div></div></div>"
            ]
          },
          "metadata": {},
          "execution_count": 19
        }
      ]
    },
    {
      "cell_type": "markdown",
      "source": [
        "Model Evaluation"
      ],
      "metadata": {
        "id": "bQt4tw3Kb27S"
      }
    },
    {
      "cell_type": "code",
      "source": [
        "#accuracy score on the training dataset\n",
        "model.predict(X_train)\n",
        "trainig_data_accuracy = accuracy_score(model.predict(X_train), Y_train)\n",
        "print('Accuracy of training data:', trainig_data_accuracy)"
      ],
      "metadata": {
        "colab": {
          "base_uri": "https://localhost:8080/"
        },
        "id": "tmY-WzeUbqZg",
        "outputId": "78df3b68-024a-4f68-dfee-422758225044"
      },
      "execution_count": 20,
      "outputs": [
        {
          "output_type": "stream",
          "name": "stdout",
          "text": [
            "Accuracy of training data: 0.9528563505268997\n"
          ]
        }
      ]
    },
    {
      "cell_type": "code",
      "source": [
        "#accuracy score on the test dataset\n",
        "model.predict(X_test)\n",
        "trainig_data_accuracy = accuracy_score(model.predict(X_test), Y_test)\n",
        "print('Accuracy of training data:', trainig_data_accuracy)"
      ],
      "metadata": {
        "colab": {
          "base_uri": "https://localhost:8080/"
        },
        "id": "M6qPJtPqd0FR",
        "outputId": "fc075e88-865a-4ab6-b1f9-fed8b1a0ed64"
      },
      "execution_count": 21,
      "outputs": [
        {
          "output_type": "stream",
          "name": "stdout",
          "text": [
            "Accuracy of training data: 0.9041019955654102\n"
          ]
        }
      ]
    },
    {
      "cell_type": "markdown",
      "source": [
        "Making a Predictive System"
      ],
      "metadata": {
        "id": "WW-bhjegfM1w"
      }
    },
    {
      "cell_type": "code",
      "source": [
        "X_new = X_test[999]\n",
        "\n",
        "prediction = model.predict(X_new)\n",
        "\n",
        "print(prediction)\n",
        "\n",
        "if (prediction[0]==0):\n",
        "  print('The news is false')\n",
        "else:\n",
        "  print('The news is real')\n",
        "\n",
        "\n",
        "\n",
        "print('Confirmation from the original dataset:','\\n', Y_test.iloc[999])"
      ],
      "metadata": {
        "colab": {
          "base_uri": "https://localhost:8080/"
        },
        "id": "EHONWXzYeLXr",
        "outputId": "bd8a3131-7230-4603-909a-4ea8702e855f"
      },
      "execution_count": 22,
      "outputs": [
        {
          "output_type": "stream",
          "name": "stdout",
          "text": [
            "[0]\n",
            "The news is false\n",
            "Confirmation from the original dataset: \n",
            " 0\n"
          ]
        }
      ]
    }
  ]
}